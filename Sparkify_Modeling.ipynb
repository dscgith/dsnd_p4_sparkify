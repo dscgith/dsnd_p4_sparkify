{
 "cells": [
  {
   "cell_type": "markdown",
   "metadata": {},
   "source": [
    "# Sparkify Modeling Workspace\n",
    "For reasons of clarity the Sparkify project has been split into two notebooks, this is part 2.  \n",
    "Data exploration and development of features is taken care of in part 1, the Sparkify_Data.ipynb notebook.  \n",
    "The features engineered there are written to a Parquet file mini_sparkify_feature_data.parquet which is loaded again in this notebook for model training to predict customer churn."
   ]
  },
  {
   "cell_type": "markdown",
   "metadata": {},
   "source": [
    "### Content:\n",
    "+ [Modeling](#Modeling)\n",
    "+ [Pipelines, Grid Search and Cross Validation](#Pipelines,-Grid-Search-and-Cross-Validation)\n",
    "+ [Model comparison and Conclusion](#Model-comparison-and-Conclusion)"
   ]
  },
  {
   "cell_type": "markdown",
   "metadata": {},
   "source": [
    "# Modeling\n",
    "To achieve the goal of predicting customers who churn based on their behaviour and usage pattern, several algorithms are trained and evaluated.  \n",
    "For this the preprocessed feature data is loaded and used, splitting it randomly in 80% training and 20% testing dataset.\n",
    "\n",
    "For every model a pipeline is created, containing a VectorAssembler, a StandardScaler and the model itself.  \n",
    "The VectorAssembler transforms the different feature columns of the dataset into a DenseVector or a SparseVector, while the StandarScaler scales all features to mean zero and standard deviation.\n",
    "\n",
    "To find the best possible set of parameters for each type of classifier the pipeline is used with ParamGridBuilder and CrossValidator to seach for an optimal parameterset and perform 3-fold cross-validation.\n",
    "\n",
    "The following models are evaluated:\n",
    "+ [Logistic Regression](#Logistic-Regression)\n",
    "+ [Decision Tree Classifier](#Decision-Tree-Classifier)\n",
    "+ [Gradient Boosted Tree Classifier](#Gradient-Boosted-Tree-Classifier)\n",
    "+ [Random Forest Classifier](#Random-Forest-Classifier)\n",
    "+ [Linear Support Vector Classifier](#Linear-Support-Vector-Classifier)\n",
    "+ [Naive Bayes](#Naive-Bayes)\n",
    "+ [Multilayer Perceptron Classifier](#Multilayer-Perceptron-Classifier)\n",
    "\n",
    "Evaluation will be done using *Precision*, *Recall*, *Accuracy* and *F1-Score*. Since the dataset is not balanced well, accuracy isn't the best metric, which is why F1-Score will be preferred to select the best performing algorithm."
   ]
  },
  {
   "cell_type": "markdown",
   "metadata": {},
   "source": [
    "#### Imports and functions"
   ]
  },
  {
   "cell_type": "code",
   "execution_count": 1,
   "metadata": {},
   "outputs": [],
   "source": [
    "# standard libraries\n",
    "import pandas as pd\n",
    "import numpy as np\n",
    "import matplotlib.pyplot as plt\n",
    "%matplotlib inline\n",
    "\n",
    "from IPython.display import display as d\n",
    "\n",
    "# PySpark \n",
    "from pyspark import SparkConf, SparkContext\n",
    "from pyspark.sql import SparkSession\n",
    "# PySpark ML\n",
    "from pyspark.ml.feature import VectorAssembler, StandardScaler\n",
    "from pyspark.ml.classification import DecisionTreeClassifier, GBTClassifier, LinearSVC, NaiveBayes \n",
    "from pyspark.ml.classification import LogisticRegression, MultilayerPerceptronClassifier, RandomForestClassifier\n",
    "from pyspark.ml.pipeline import Pipeline\n",
    "from pyspark.ml.tuning import ParamGridBuilder, CrossValidator\n",
    "from pyspark.ml.evaluation import MulticlassClassificationEvaluator "
   ]
  },
  {
   "cell_type": "code",
   "execution_count": 2,
   "metadata": {},
   "outputs": [],
   "source": [
    "def evaluate_prediction(data, df=pd.DataFrame(), returndf=True):\n",
    "    \"\"\"\n",
    "    Evaluate predictions vs. labels with precision, recall, accuracy and F1-Score\n",
    "    INPUTS:\n",
    "    data: PySpark dataframe containing a column 'label' and 'prediction'\n",
    "    df: dataframe to append metric information on\n",
    "    returndf: whether to return the information df or not\n",
    "    \"\"\"\n",
    "    tp = data.filter((data.label == 1) & (data.prediction == 1)).count()\n",
    "    fp = data.filter((data.label == 0) & (data.prediction == 1)).count()\n",
    "    tn = data.filter((data.label == 0) & (data.prediction == 0)).count()\n",
    "    fn = data.filter((data.label == 1) & (data.prediction == 0)).count()\n",
    "    precision = tp / (tp + fp)\n",
    "    recall = tp / (tp + fn)\n",
    "    accuracy = (tp + tn) / (tp + fp + tn + fn)\n",
    "    f1 = 2 * precision * recall / (precision + recall)\n",
    "    print(\"\\n Metrics:\")\n",
    "    print(\" - Precision:\", np.round(precision, 2))\n",
    "    print(\" - Recall:   \", np.round(recall, 2))\n",
    "    print(\" - Accuracy: \", np.round(accuracy, 2))\n",
    "    print(\" - F1-Score: \", np.round(f1, 2))\n",
    "    confusion_array = np.array([[tp, fn],\n",
    "                                [fp, tn]])\n",
    "    fig, ax = plt.subplots(figsize=(2.2, 2.2))\n",
    "    im = ax.imshow(confusion_array, cmap=\"Blues\")\n",
    "    ax.set_xticks(np.arange(2))\n",
    "    ax.set_yticks(np.arange(2))\n",
    "    ax.set_xticklabels([\"Pos\", \"Neg\"])\n",
    "    ax.xaxis.set_ticks_position(\"top\")\n",
    "    ax.xaxis.set_label_position(\"top\")\n",
    "    ax.set_yticklabels([\"Pos\", \"Neg\"])\n",
    "    ax.set_xlabel(\"Predicted\")\n",
    "    ax.set_ylabel(\"Actual\")\n",
    "    for i in range(2):\n",
    "        for j in range(2):\n",
    "            if confusion_array[i, j] > (0.6 * np.max(confusion_array)):\n",
    "                color = \"w\"\n",
    "            else:\n",
    "                color = \"k\"\n",
    "            text = ax.text(j, i, confusion_array[i, j], ha=\"center\", va=\"center\", color=color)\n",
    "    fig.tight_layout()\n",
    "    plt.show();\n",
    "    \n",
    "    if returndf:\n",
    "        return pd.DataFrame({df.columns[0]: [np.round(precision, 2), np.round(recall, 2), \n",
    "                                             np.round(accuracy, 2), np.round(f1, 2)]}, \n",
    "                            index=[\"Precision\", \"Recall\", \"Accuracy\", \"F1-Score\"]).append(df)\n",
    "    \n",
    "    \n",
    "def plot_feat_importance(model):\n",
    "    \"\"\"Create a barplot for feature importance of a models\"\"\"\n",
    "    try:\n",
    "        feat_importance = pd.DataFrame({\"feature\": feature_cols, \n",
    "                                        \"importance\": model.bestModel.stages[-1].featureImportances.toArray()}) \\\n",
    "                                        .sort_values(\"importance\", ascending=False)\n",
    "        feat_importance = feat_importance[feat_importance.importance > 0]\n",
    "    except:\n",
    "        pass\n",
    "    try:\n",
    "        feat_importance = pd.DataFrame({\"feature\": feature_cols, \n",
    "                                        \"importance\": model.bestModel.stages[-1].coefficients.toArray()}) \\\n",
    "                                        .sort_values(\"importance\", ascending=False)\n",
    "    except:\n",
    "        pass\n",
    "        \n",
    "    plt.figure(figsize=(10, 5/27 * len(feat_importance.importance) + 0.15))\n",
    "    plt.barh(range(len(feat_importance.importance), 0, -1), \n",
    "             feat_importance.importance, \n",
    "             tick_label=feat_importance.feature);\n",
    "    plt.title(\"Feature importance\");\n",
    "    \n",
    "    \n",
    "def bestmodel_params(model, prnt=True):\n",
    "    \"\"\"\n",
    "    Print parameters of the best model from CrossValidator\n",
    "    INPUTS:\n",
    "    model: model to get best parameters of\n",
    "    prnt: boolean for print yes/no\n",
    "    \"\"\"\n",
    "    keys = list(model.getEstimatorParamMaps()[np.argmax(model.avgMetrics)].keys())\n",
    "    values = list(model.getEstimatorParamMaps()[np.argmax(model.avgMetrics)].values())\n",
    "    \n",
    "    params_print = \"\"\n",
    "    params = \"\"\n",
    "    for key, value in zip(keys, values):\n",
    "        params_print += f\" - {key.name}: {value}\\n\"\n",
    "        params += f\"{key.name}: {value}, \"\n",
    "    if prnt:\n",
    "        print(\"Best model:\\n\", keys[0].parent.split(\"_\")[0])\n",
    "        print(params_print.strip(\"\\n\"))\n",
    "\n",
    "    return pd.DataFrame({keys[0].parent.split(\"_\")[0]: \n",
    "                         [str(param) + \": \"+ str(value) for param, value in zip([key.name for key in keys], values)]}, \n",
    "                         index=[\"opt_param\" + str(i) for i in range(len(values))])"
   ]
  },
  {
   "cell_type": "markdown",
   "metadata": {},
   "source": [
    "#### Create a Spark session"
   ]
  },
  {
   "cell_type": "code",
   "execution_count": 3,
   "metadata": {},
   "outputs": [
    {
     "data": {
      "text/html": [
       "\n",
       "            <div>\n",
       "                <p><b>SparkSession - in-memory</b></p>\n",
       "                \n",
       "        <div>\n",
       "            <p><b>SparkContext</b></p>\n",
       "\n",
       "            <p><a href=\"http://6760b8203f04:4041\">Spark UI</a></p>\n",
       "\n",
       "            <dl>\n",
       "              <dt>Version</dt>\n",
       "                <dd><code>v2.4.3</code></dd>\n",
       "              <dt>Master</dt>\n",
       "                <dd><code>local[*]</code></dd>\n",
       "              <dt>AppName</dt>\n",
       "                <dd><code>sparkify</code></dd>\n",
       "            </dl>\n",
       "        </div>\n",
       "        \n",
       "            </div>\n",
       "        "
      ],
      "text/plain": [
       "<pyspark.sql.session.SparkSession at 0x7f29d66d1da0>"
      ]
     },
     "metadata": {},
     "output_type": "display_data"
    },
    {
     "data": {
      "text/plain": [
       "[('spark.driver.port', '42203'),\n",
       " ('spark.app.name', 'sparkify'),\n",
       " ('spark.rdd.compress', 'True'),\n",
       " ('spark.driver.host', '6760b8203f04'),\n",
       " ('spark.serializer.objectStreamReset', '100'),\n",
       " ('spark.master', 'local[*]'),\n",
       " ('spark.executor.id', 'driver'),\n",
       " ('spark.submit.deployMode', 'client'),\n",
       " ('spark.app.id', 'local-1625390510213'),\n",
       " ('spark.ui.showConsoleProgress', 'true')]"
      ]
     },
     "metadata": {},
     "output_type": "display_data"
    }
   ],
   "source": [
    "# create the Spark session\n",
    "spark = SparkSession \\\n",
    "            .builder \\\n",
    "            .appName(\"sparkify\") \\\n",
    "            .getOrCreate()\n",
    "\n",
    "# show Spark config details\n",
    "d(spark)\n",
    "d(spark.sparkContext.getConf().getAll())"
   ]
  },
  {
   "cell_type": "markdown",
   "metadata": {},
   "source": [
    "#### Load data"
   ]
  },
  {
   "cell_type": "code",
   "execution_count": 4,
   "metadata": {},
   "outputs": [
    {
     "name": "stdout",
     "output_type": "stream",
     "text": [
      "root\n",
      " |-- label: integer (nullable = true)\n",
      " |-- membership_duration: integer (nullable = true)\n",
      " |-- days_active: long (nullable = true)\n",
      " |-- active_rate: double (nullable = true)\n",
      " |-- paid_use_share: double (nullable = true)\n",
      " |-- paid_sub_share: double (nullable = true)\n",
      " |-- page_About: long (nullable = true)\n",
      " |-- page_AddFriend: long (nullable = true)\n",
      " |-- page_AddtoPlaylist: long (nullable = true)\n",
      " |-- page_Downgrade: long (nullable = true)\n",
      " |-- page_Error: long (nullable = true)\n",
      " |-- page_Help: long (nullable = true)\n",
      " |-- page_Home: long (nullable = true)\n",
      " |-- page_NextSong: long (nullable = true)\n",
      " |-- page_RollAdvert: long (nullable = true)\n",
      " |-- page_SubmitDowngrade: long (nullable = true)\n",
      " |-- page_SubmitUpgrade: long (nullable = true)\n",
      " |-- page_ThumbsDown: long (nullable = true)\n",
      " |-- page_ThumbsUp: long (nullable = true)\n",
      " |-- page_Upgrade: long (nullable = true)\n",
      " |-- device_MacOS: long (nullable = true)\n",
      " |-- device_Ubuntu: long (nullable = true)\n",
      " |-- device_Windows: long (nullable = true)\n",
      " |-- device_iPhone: long (nullable = true)\n",
      " |-- device_unknown: long (nullable = true)\n",
      " |-- avg_session_len: double (nullable = true)\n",
      " |-- avg_day_len: integer (nullable = true)\n",
      " |-- gender: integer (nullable = true)\n",
      "\n"
     ]
    }
   ],
   "source": [
    "# load feature dataset\n",
    "file_location = \"mini_sparkify_feature_data.parquet\"\n",
    "feature_sdf = spark.read.parquet(file_location).withColumnRenamed(\"churn_flag\", \"label\")\n",
    "feature_sdf.persist()\n",
    "feature_sdf.printSchema()"
   ]
  },
  {
   "cell_type": "code",
   "execution_count": 5,
   "metadata": {
    "scrolled": true
   },
   "outputs": [],
   "source": [
    "# list of feature columns without churn_flag\n",
    "feature_cols = feature_sdf.columns\n",
    "feature_cols.remove(\"label\")\n",
    "\n",
    "# prepare data transformers to create a feature vector and standardize the data\n",
    "assembler = VectorAssembler(inputCols=feature_cols, outputCol=\"features_vec\")\n",
    "standardscaler = StandardScaler(inputCol=\"features_vec\", outputCol=\"features\", withStd=True)"
   ]
  },
  {
   "cell_type": "markdown",
   "metadata": {},
   "source": [
    "### Test a standard Logistic Regression"
   ]
  },
  {
   "cell_type": "code",
   "execution_count": 6,
   "metadata": {},
   "outputs": [
    {
     "name": "stdout",
     "output_type": "stream",
     "text": [
      "\n",
      " Metrics:\n",
      " - Precision: 0.5\n",
      " - Recall:    0.44\n",
      " - Accuracy:  0.72\n",
      " - F1-Score:  0.47\n"
     ]
    },
    {
     "data": {
      "image/png": "[encoded data removed]",
      "text/plain": [
       "<matplotlib.figure.Figure at 0x7f29d6660b70>"
      ]
     },
     "metadata": {
      "needs_background": "light"
     },
     "output_type": "display_data"
    }
   ],
   "source": [
    "# transform features\n",
    "feature_vec = assembler.transform(feature_sdf)\n",
    "feature_vec = standardscaler.fit(feature_vec).transform(feature_vec)\n",
    "feature_vec = feature_vec.select(\"label\", \"features\")\n",
    "\n",
    "# train/test split\n",
    "train, test = feature_vec.randomSplit([0.8, 0.2], seed=42)\n",
    "# train the model\n",
    "logisticregression = LogisticRegression()\n",
    "model_lr = logisticregression.fit(train)\n",
    "pred_lr = model_lr.transform(test)\n",
    "evaluate_prediction(pred_lr, returndf=False)"
   ]
  },
  {
   "cell_type": "markdown",
   "metadata": {},
   "source": [
    "## Pipelines, Grid Search and Cross Validation"
   ]
  },
  {
   "cell_type": "code",
   "execution_count": 7,
   "metadata": {},
   "outputs": [],
   "source": [
    "# dataframe to collect information on best models\n",
    "best_models = pd.DataFrame()"
   ]
  },
  {
   "cell_type": "code",
   "execution_count": 8,
   "metadata": {},
   "outputs": [],
   "source": [
    "# create a training and testing dataset\n",
    "train, test = feature_sdf.randomSplit([0.8, 0.2], seed=42)"
   ]
  },
  {
   "cell_type": "markdown",
   "metadata": {},
   "source": [
    "### Logistic Regression"
   ]
  },
  {
   "cell_type": "code",
   "execution_count": 9,
   "metadata": {},
   "outputs": [
    {
     "name": "stdout",
     "output_type": "stream",
     "text": [
      "Best model:\n",
      " LogisticRegression\n",
      " - maxIter: 10\n",
      " - regParam: 0.0\n",
      " - elasticNetParam: 0.0\n",
      " - fitIntercept: True\n",
      "\n",
      " Metrics:\n",
      " - Precision: 0.71\n",
      " - Recall:    0.56\n",
      " - Accuracy:  0.81\n",
      " - F1-Score:  0.63\n"
     ]
    },
    {
     "data": {
      "image/png": "[encoded data removed]",
      "text/plain": [
       "<matplotlib.figure.Figure at 0x7f29d64ad2b0>"
      ]
     },
     "metadata": {
      "needs_background": "light"
     },
     "output_type": "display_data"
    }
   ],
   "source": [
    "# creating a pipeline\n",
    "logisticregression = LogisticRegression()\n",
    "pipeline_lr = Pipeline(stages=[assembler, standardscaler, logisticregression])\n",
    "\n",
    "# k-fold Cross-Validation for Logistic Regression\n",
    "params_lr = ParamGridBuilder() \\\n",
    "            .addGrid(logisticregression.maxIter, [5, 10, 20]) \\\n",
    "            .addGrid(logisticregression.regParam, [0, 0.01, 0.1]) \\\n",
    "            .addGrid(logisticregression.elasticNetParam, [0, 0.5, 1]) \\\n",
    "            .addGrid(logisticregression.fitIntercept, [True, False]) \\\n",
    "            .build()\n",
    "\n",
    "crossvalidation_lr = CrossValidator(estimator=pipeline_lr,\n",
    "                                 estimatorParamMaps=params_lr,\n",
    "                                 evaluator=MulticlassClassificationEvaluator(metricName=\"f1\"),\n",
    "                                 numFolds=3,\n",
    "                                 seed=42)\n",
    "\n",
    "cv_model_lr = crossvalidation_lr.fit(train)\n",
    "cv_pred_lr = cv_model_lr.transform(test)\n",
    "# evaluate prediction and get best model information\n",
    "best_lr = evaluate_prediction(cv_pred_lr, bestmodel_params(cv_model_lr, True))\n",
    "best_models[best_lr.columns] = best_lr"
   ]
  },
  {
   "cell_type": "markdown",
   "metadata": {},
   "source": [
    "> The parameter optimization with ParamGridBuilder and CrossValidator paid of.  \n",
    "Accuracy and F1-Score of the Logistic Regression Classifier could be improved from 0.72 / 0.47 to 0.81 / 0.63, compared with the model trained with standard parameters."
   ]
  },
  {
   "cell_type": "code",
   "execution_count": 10,
   "metadata": {
    "scrolled": false
   },
   "outputs": [
    {
     "data": {
      "image/png": "[encoded data removed]",
      "text/plain": [
       "<matplotlib.figure.Figure at 0x7f29d6668e10>"
      ]
     },
     "metadata": {
      "needs_background": "light"
     },
     "output_type": "display_data"
    }
   ],
   "source": [
    "plot_feat_importance(cv_model_lr)"
   ]
  },
  {
   "cell_type": "markdown",
   "metadata": {},
   "source": [
    "### Decision Tree Classifier"
   ]
  },
  {
   "cell_type": "code",
   "execution_count": 11,
   "metadata": {
    "scrolled": true
   },
   "outputs": [
    {
     "name": "stdout",
     "output_type": "stream",
     "text": [
      "Best model:\n",
      " DecisionTreeClassifier\n",
      " - maxBins: 32\n",
      " - impurity: gini\n",
      " - maxDepth: 1\n",
      "\n",
      " Metrics:\n",
      " - Precision: 0.58\n",
      " - Recall:    0.78\n",
      " - Accuracy:  0.78\n",
      " - F1-Score:  0.67\n"
     ]
    },
    {
     "data": {
      "image/png": "[encoded data removed]",
      "text/plain": [
       "<matplotlib.figure.Figure at 0x7f29d6420e10>"
      ]
     },
     "metadata": {
      "needs_background": "light"
     },
     "output_type": "display_data"
    }
   ],
   "source": [
    "# creating a pipeline\n",
    "decisiontree = DecisionTreeClassifier(seed=42)\n",
    "pipeline_dt = Pipeline(stages=[assembler, standardscaler, decisiontree])\n",
    "\n",
    "# k-fold Cross-Validation with pipeline for Decision Tree Classifier\n",
    "params_dt = ParamGridBuilder() \\\n",
    "            .addGrid(decisiontree.maxBins , [16, 32, 64]) \\\n",
    "            .addGrid(decisiontree.impurity , [\"entropy\", \"gini\"]) \\\n",
    "            .addGrid(decisiontree.maxDepth, [1, 2, 5]) \\\n",
    "            .build()\n",
    "\n",
    "crossvalidation_dt = CrossValidator(estimator=pipeline_dt,\n",
    "                                 estimatorParamMaps=params_dt,\n",
    "                                 evaluator=MulticlassClassificationEvaluator(metricName=\"f1\"),\n",
    "                                 numFolds=3,\n",
    "                                 seed=42)\n",
    "\n",
    "cv_model_dt = crossvalidation_dt.fit(train)\n",
    "cv_pred_dt = cv_model_dt.transform(test)\n",
    "# evaluate prediction and get best model information\n",
    "best_dt = evaluate_prediction(cv_pred_dt, bestmodel_params(cv_model_dt, True))\n",
    "best_models[best_dt.columns] = best_dt"
   ]
  },
  {
   "cell_type": "code",
   "execution_count": 12,
   "metadata": {},
   "outputs": [
    {
     "data": {
      "image/png": "[encoded data removed]",
      "text/plain": [
       "<matplotlib.figure.Figure at 0x7f29d40bd0b8>"
      ]
     },
     "metadata": {
      "needs_background": "light"
     },
     "output_type": "display_data"
    }
   ],
   "source": [
    "plot_feat_importance(cv_model_dt)"
   ]
  },
  {
   "cell_type": "markdown",
   "metadata": {},
   "source": [
    "> Interestingly the fairly simple DecisionTreeClassifier chose a very low Depth of 1, resulting in using only one feature for prediction, the membership duration."
   ]
  },
  {
   "cell_type": "markdown",
   "metadata": {},
   "source": [
    "### Gradient Boosted Tree Classifier"
   ]
  },
  {
   "cell_type": "code",
   "execution_count": 13,
   "metadata": {},
   "outputs": [
    {
     "name": "stdout",
     "output_type": "stream",
     "text": [
      "Best model:\n",
      " GBTClassifier\n",
      " - maxBins: 64\n",
      " - maxIter: 10\n",
      " - maxDepth: 2\n",
      "\n",
      " Metrics:\n",
      " - Precision: 0.67\n",
      " - Recall:    0.44\n",
      " - Accuracy:  0.78\n",
      " - F1-Score:  0.53\n"
     ]
    },
    {
     "data": {
      "image/png": "[encoded data removed]",
      "text/plain": [
       "<matplotlib.figure.Figure at 0x7f29d646a128>"
      ]
     },
     "metadata": {
      "needs_background": "light"
     },
     "output_type": "display_data"
    }
   ],
   "source": [
    "# creating a pipeline\n",
    "gradienttrees = GBTClassifier(seed=42)\n",
    "pipeline_gbt = Pipeline(stages=[assembler, standardscaler, gradienttrees])\n",
    "\n",
    "# k-fold Cross-Validation with pipeline for Gradient Boosted Tree Classifier\n",
    "params_gbt = ParamGridBuilder() \\\n",
    "            .addGrid(gradienttrees.maxBins , [32, 64, 96]) \\\n",
    "            .addGrid(gradienttrees.maxIter , [5, 10, 20]) \\\n",
    "            .addGrid(gradienttrees.maxDepth, [1, 2, 5]) \\\n",
    "            .build()\n",
    "\n",
    "crossvalidation_gbt = CrossValidator(estimator=pipeline_gbt,\n",
    "                                 estimatorParamMaps=params_gbt,\n",
    "                                 evaluator=MulticlassClassificationEvaluator(metricName=\"f1\"),\n",
    "                                 numFolds=3,\n",
    "                                 seed=42)\n",
    "\n",
    "cv_model_gbt = crossvalidation_gbt.fit(train)\n",
    "cv_pred_gbt = cv_model_gbt.transform(test)\n",
    "# evaluate prediction and get best model information\n",
    "best_gbt = evaluate_prediction(cv_pred_gbt, bestmodel_params(cv_model_gbt, True))\n",
    "best_models[best_gbt.columns] = best_gbt"
   ]
  },
  {
   "cell_type": "code",
   "execution_count": 14,
   "metadata": {
    "scrolled": true
   },
   "outputs": [
    {
     "data": {
      "image/png": "[encoded data removed]",
      "text/plain": [
       "<matplotlib.figure.Figure at 0x7f29d40f5b38>"
      ]
     },
     "metadata": {
      "needs_background": "light"
     },
     "output_type": "display_data"
    }
   ],
   "source": [
    "plot_feat_importance(cv_model_gbt)"
   ]
  },
  {
   "cell_type": "markdown",
   "metadata": {},
   "source": [
    "### Random Forest Classifier"
   ]
  },
  {
   "cell_type": "code",
   "execution_count": 15,
   "metadata": {},
   "outputs": [
    {
     "name": "stdout",
     "output_type": "stream",
     "text": [
      "Best model:\n",
      " RandomForestClassifier\n",
      " - numTrees: 80\n",
      " - maxBins: 16\n",
      " - impurity: gini\n",
      " - maxDepth: 10\n",
      "\n",
      " Metrics:\n",
      " - Precision: 0.67\n",
      " - Recall:    0.44\n",
      " - Accuracy:  0.78\n",
      " - F1-Score:  0.53\n"
     ]
    },
    {
     "data": {
      "image/png": "[encoded data removed]",
      "text/plain": [
       "<matplotlib.figure.Figure at 0x7f29d64e6860>"
      ]
     },
     "metadata": {
      "needs_background": "light"
     },
     "output_type": "display_data"
    }
   ],
   "source": [
    "# creating a pipeline\n",
    "randomforest = RandomForestClassifier(seed=42)\n",
    "pipeline_rf = Pipeline(stages=[assembler, standardscaler, randomforest])\n",
    "\n",
    "# k-fold Cross-Validation with pipeline for Random Forest Classifier\n",
    "params_rf = ParamGridBuilder() \\\n",
    "            .addGrid(randomforest.numTrees, [20, 80, 160]) \\\n",
    "            .addGrid(randomforest.maxBins , [8, 16, 32]) \\\n",
    "            .addGrid(randomforest.impurity , [\"entropy\", \"gini\"]) \\\n",
    "            .addGrid(randomforest.maxDepth, [5, 10, 20]) \\\n",
    "            .build()\n",
    "\n",
    "crossvalidation_rf = CrossValidator(estimator=pipeline_rf,\n",
    "                                 estimatorParamMaps=params_rf,\n",
    "                                 evaluator=MulticlassClassificationEvaluator(metricName=\"f1\"),\n",
    "                                 numFolds=3,\n",
    "                                 seed=42)\n",
    "\n",
    "cv_model_rf = crossvalidation_rf.fit(train)\n",
    "cv_pred_rf = cv_model_rf.transform(test)\n",
    "# evaluate prediction and get best model information\n",
    "best_rf = evaluate_prediction(cv_pred_rf, bestmodel_params(cv_model_rf, True))\n",
    "best_models[best_rf.columns] = best_rf"
   ]
  },
  {
   "cell_type": "code",
   "execution_count": 16,
   "metadata": {
    "scrolled": true
   },
   "outputs": [
    {
     "data": {
      "image/png": "[encoded data removed]",
      "text/plain": [
       "<matplotlib.figure.Figure at 0x7f29d64767b8>"
      ]
     },
     "metadata": {
      "needs_background": "light"
     },
     "output_type": "display_data"
    }
   ],
   "source": [
    "plot_feat_importance(cv_model_rf)"
   ]
  },
  {
   "cell_type": "markdown",
   "metadata": {},
   "source": [
    "### Linear Support Vector Classifier"
   ]
  },
  {
   "cell_type": "code",
   "execution_count": 17,
   "metadata": {},
   "outputs": [
    {
     "name": "stdout",
     "output_type": "stream",
     "text": [
      "Best model:\n",
      " LinearSVC\n",
      " - maxIter: 100\n",
      " - regParam: 0.0\n",
      " - fitIntercept: True\n",
      "\n",
      " Metrics:\n",
      " - Precision: 0.83\n",
      " - Recall:    0.56\n",
      " - Accuracy:  0.84\n",
      " - F1-Score:  0.67\n"
     ]
    },
    {
     "data": {
      "image/png": "[encoded data removed]",
      "text/plain": [
       "<matplotlib.figure.Figure at 0x7f29d40b10b8>"
      ]
     },
     "metadata": {
      "needs_background": "light"
     },
     "output_type": "display_data"
    }
   ],
   "source": [
    "# creating a pipeline\n",
    "svc = LinearSVC()\n",
    "pipeline_svc = Pipeline(stages=[assembler, standardscaler, svc])\n",
    "\n",
    "# k-fold Cross-Validation with pipeline for Linear Support Vector Classifier\n",
    "params_svc = ParamGridBuilder() \\\n",
    "            .addGrid(svc.maxIter, [50, 100, 150]) \\\n",
    "            .addGrid(svc.regParam, [0, 0.05, 0.2]) \\\n",
    "            .addGrid(svc.fitIntercept, [True, False]) \\\n",
    "            .build()\n",
    "\n",
    "crossvalidation_svc = CrossValidator(estimator=pipeline_svc,\n",
    "                                 estimatorParamMaps=params_svc,\n",
    "                                 evaluator=MulticlassClassificationEvaluator(metricName=\"f1\"),\n",
    "                                 numFolds=3,\n",
    "                                 seed=42)\n",
    "\n",
    "cv_model_svc = crossvalidation_svc.fit(train)\n",
    "cv_pred_svc = cv_model_svc.transform(test)\n",
    "# evaluate prediction and get best model information\n",
    "best_svc = evaluate_prediction(cv_pred_svc, bestmodel_params(cv_model_svc, True))\n",
    "best_models[best_svc.columns] = best_svc"
   ]
  },
  {
   "cell_type": "code",
   "execution_count": 18,
   "metadata": {},
   "outputs": [
    {
     "data": {
      "image/png": "[encoded data removed]",
      "text/plain": [
       "<matplotlib.figure.Figure at 0x7f29d6420128>"
      ]
     },
     "metadata": {
      "needs_background": "light"
     },
     "output_type": "display_data"
    }
   ],
   "source": [
    "plot_feat_importance(cv_model_svc)"
   ]
  },
  {
   "cell_type": "markdown",
   "metadata": {},
   "source": [
    "### Naive Bayes"
   ]
  },
  {
   "cell_type": "code",
   "execution_count": 19,
   "metadata": {},
   "outputs": [
    {
     "name": "stdout",
     "output_type": "stream",
     "text": [
      "Best model:\n",
      " NaiveBayes\n",
      " - smoothing: 10.0\n",
      "\n",
      " Metrics:\n",
      " - Precision: 0.5\n",
      " - Recall:    0.11\n",
      " - Accuracy:  0.72\n",
      " - F1-Score:  0.18\n"
     ]
    },
    {
     "data": {
      "image/png": "[encoded data removed]",
      "text/plain": [
       "<matplotlib.figure.Figure at 0x7f29d4022438>"
      ]
     },
     "metadata": {
      "needs_background": "light"
     },
     "output_type": "display_data"
    }
   ],
   "source": [
    "# creating a pipeline\n",
    "naivebayes = NaiveBayes()\n",
    "pipeline_nb = Pipeline(stages=[assembler, standardscaler, naivebayes])\n",
    "\n",
    "# k-fold Cross-Validation with pipeline for Naive Bayes Classifier\n",
    "params_nb = ParamGridBuilder() \\\n",
    "            .addGrid(naivebayes.smoothing, [0.5, 1, 5, 10, 20]) \\\n",
    "            .build()\n",
    "\n",
    "crossvalidation_nb = CrossValidator(estimator=pipeline_nb,\n",
    "                                 estimatorParamMaps=params_nb,\n",
    "                                 evaluator=MulticlassClassificationEvaluator(metricName=\"f1\"),\n",
    "                                 numFolds=3,\n",
    "                                 seed=42)\n",
    "\n",
    "cv_model_nb = crossvalidation_nb.fit(train)\n",
    "cv_pred_nb = cv_model_nb.transform(test)\n",
    "# evaluate prediction and get best model information\n",
    "best_nb = evaluate_prediction(cv_pred_nb, bestmodel_params(cv_model_nb, True))\n",
    "best_models[best_nb.columns] = best_nb"
   ]
  },
  {
   "cell_type": "markdown",
   "metadata": {},
   "source": [
    "### Multilayer Perceptron Classifier"
   ]
  },
  {
   "cell_type": "code",
   "execution_count": 20,
   "metadata": {},
   "outputs": [
    {
     "name": "stdout",
     "output_type": "stream",
     "text": [
      "Best model:\n",
      " MultilayerPerceptronClassifier\n",
      " - maxIter: 20\n",
      " - layers: [27, 10, 2]\n",
      " - solver: l-bfgs\n",
      " - stepSize: 0.005\n",
      "\n",
      " Metrics:\n",
      " - Precision: 0.64\n",
      " - Recall:    0.78\n",
      " - Accuracy:  0.81\n",
      " - F1-Score:  0.7\n"
     ]
    },
    {
     "data": {
      "image/png": "[encoded data removed]",
      "text/plain": [
       "<matplotlib.figure.Figure at 0x7f29cc7c5f60>"
      ]
     },
     "metadata": {
      "needs_background": "light"
     },
     "output_type": "display_data"
    }
   ],
   "source": [
    "# creating a pipeline\n",
    "perceptron = MultilayerPerceptronClassifier(seed=42)\n",
    "pipeline_mlp = Pipeline(stages=[assembler, standardscaler, perceptron])\n",
    "\n",
    "# k-fold Cross-Validation with pipeline for Multilayer Perceptron Classifier\n",
    "params_mlp = ParamGridBuilder() \\\n",
    "            .addGrid(perceptron.maxIter, [10, 20, 50, 100]) \\\n",
    "            .addGrid(perceptron.layers, [[27, 5, 2], [27, 10, 2], [27, 25, 2]]) \\\n",
    "            .addGrid(perceptron.solver, [\"l-bfgs\", \"gd\"]) \\\n",
    "            .addGrid(perceptron.stepSize, [0.005, 0.01, 0.03]) \\\n",
    "            .build()\n",
    "\n",
    "crossvalidation_mlp = CrossValidator(estimator=pipeline_mlp,\n",
    "                                 estimatorParamMaps=params_mlp,\n",
    "                                 evaluator=MulticlassClassificationEvaluator(metricName=\"f1\"),\n",
    "                                 numFolds=3,\n",
    "                                 seed=42)\n",
    "\n",
    "cv_model_mlp = crossvalidation_mlp.fit(train)\n",
    "cv_pred_mlp = cv_model_mlp.transform(test)\n",
    "# evaluate prediction and get best model information\n",
    "best_mlp = evaluate_prediction(cv_pred_mlp, bestmodel_params(cv_model_mlp, True))\n",
    "best_models[best_mlp.columns] = best_mlp"
   ]
  },
  {
   "cell_type": "markdown",
   "metadata": {},
   "source": [
    "# Model comparison and Conclusion\n",
    "The following table shows the comparison of the results of the parameter optimization for all tested algorithms and the corresponding best parameter set for each algorithm. Parameters that have not been part of the parameter study are set to default by the model and are therefore not listed.  \n",
    "Based on F1-Score the best algorithm is displayed leftmost."
   ]
  },
  {
   "cell_type": "code",
   "execution_count": 21,
   "metadata": {},
   "outputs": [
    {
     "data": {
      "text/html": [
       "<div>\n",
       "<style scoped>\n",
       "    .dataframe tbody tr th:only-of-type {\n",
       "        vertical-align: middle;\n",
       "    }\n",
       "\n",
       "    .dataframe tbody tr th {\n",
       "        vertical-align: top;\n",
       "    }\n",
       "\n",
       "    .dataframe thead th {\n",
       "        text-align: right;\n",
       "    }\n",
       "</style>\n",
       "<table border=\"1\" class=\"dataframe\">\n",
       "  <thead>\n",
       "    <tr style=\"text-align: right;\">\n",
       "      <th></th>\n",
       "      <th>MultilayerPerceptronClassifier</th>\n",
       "      <th>LinearSVC</th>\n",
       "      <th>DecisionTreeClassifier</th>\n",
       "      <th>LogisticRegression</th>\n",
       "      <th>GBTClassifier</th>\n",
       "      <th>RandomForestClassifier</th>\n",
       "      <th>NaiveBayes</th>\n",
       "    </tr>\n",
       "  </thead>\n",
       "  <tbody>\n",
       "    <tr>\n",
       "      <th>Precision</th>\n",
       "      <td>0.64</td>\n",
       "      <td>0.83</td>\n",
       "      <td>0.58</td>\n",
       "      <td>0.71</td>\n",
       "      <td>0.67</td>\n",
       "      <td>0.67</td>\n",
       "      <td>0.5</td>\n",
       "    </tr>\n",
       "    <tr>\n",
       "      <th>Recall</th>\n",
       "      <td>0.78</td>\n",
       "      <td>0.56</td>\n",
       "      <td>0.78</td>\n",
       "      <td>0.56</td>\n",
       "      <td>0.44</td>\n",
       "      <td>0.44</td>\n",
       "      <td>0.11</td>\n",
       "    </tr>\n",
       "    <tr>\n",
       "      <th>Accuracy</th>\n",
       "      <td>0.81</td>\n",
       "      <td>0.84</td>\n",
       "      <td>0.78</td>\n",
       "      <td>0.81</td>\n",
       "      <td>0.78</td>\n",
       "      <td>0.78</td>\n",
       "      <td>0.72</td>\n",
       "    </tr>\n",
       "    <tr>\n",
       "      <th>F1-Score</th>\n",
       "      <td>0.7</td>\n",
       "      <td>0.67</td>\n",
       "      <td>0.67</td>\n",
       "      <td>0.63</td>\n",
       "      <td>0.53</td>\n",
       "      <td>0.53</td>\n",
       "      <td>0.18</td>\n",
       "    </tr>\n",
       "    <tr>\n",
       "      <th>opt_param0</th>\n",
       "      <td>maxIter: 20</td>\n",
       "      <td>maxIter: 100</td>\n",
       "      <td>maxBins: 32</td>\n",
       "      <td>maxIter: 10</td>\n",
       "      <td>maxBins: 64</td>\n",
       "      <td>numTrees: 80</td>\n",
       "      <td>smoothing: 10.0</td>\n",
       "    </tr>\n",
       "    <tr>\n",
       "      <th>opt_param1</th>\n",
       "      <td>layers: [27, 10, 2]</td>\n",
       "      <td>regParam: 0.0</td>\n",
       "      <td>impurity: gini</td>\n",
       "      <td>regParam: 0.0</td>\n",
       "      <td>maxIter: 10</td>\n",
       "      <td>maxBins: 16</td>\n",
       "      <td>NaN</td>\n",
       "    </tr>\n",
       "    <tr>\n",
       "      <th>opt_param2</th>\n",
       "      <td>solver: l-bfgs</td>\n",
       "      <td>fitIntercept: True</td>\n",
       "      <td>maxDepth: 1</td>\n",
       "      <td>elasticNetParam: 0.0</td>\n",
       "      <td>maxDepth: 2</td>\n",
       "      <td>impurity: gini</td>\n",
       "      <td>NaN</td>\n",
       "    </tr>\n",
       "    <tr>\n",
       "      <th>opt_param3</th>\n",
       "      <td>stepSize: 0.005</td>\n",
       "      <td>NaN</td>\n",
       "      <td>NaN</td>\n",
       "      <td>fitIntercept: True</td>\n",
       "      <td>NaN</td>\n",
       "      <td>maxDepth: 10</td>\n",
       "      <td>NaN</td>\n",
       "    </tr>\n",
       "  </tbody>\n",
       "</table>\n",
       "</div>"
      ],
      "text/plain": [
       "           MultilayerPerceptronClassifier           LinearSVC  \\\n",
       "Precision                            0.64                0.83   \n",
       "Recall                               0.78                0.56   \n",
       "Accuracy                             0.81                0.84   \n",
       "F1-Score                              0.7                0.67   \n",
       "opt_param0                    maxIter: 20        maxIter: 100   \n",
       "opt_param1            layers: [27, 10, 2]       regParam: 0.0   \n",
       "opt_param2                 solver: l-bfgs  fitIntercept: True   \n",
       "opt_param3                stepSize: 0.005                 NaN   \n",
       "\n",
       "           DecisionTreeClassifier    LogisticRegression GBTClassifier  \\\n",
       "Precision                    0.58                  0.71          0.67   \n",
       "Recall                       0.78                  0.56          0.44   \n",
       "Accuracy                     0.78                  0.81          0.78   \n",
       "F1-Score                     0.67                  0.63          0.53   \n",
       "opt_param0            maxBins: 32           maxIter: 10   maxBins: 64   \n",
       "opt_param1         impurity: gini         regParam: 0.0   maxIter: 10   \n",
       "opt_param2            maxDepth: 1  elasticNetParam: 0.0   maxDepth: 2   \n",
       "opt_param3                    NaN    fitIntercept: True           NaN   \n",
       "\n",
       "           RandomForestClassifier       NaiveBayes  \n",
       "Precision                    0.67              0.5  \n",
       "Recall                       0.44             0.11  \n",
       "Accuracy                     0.78             0.72  \n",
       "F1-Score                     0.53             0.18  \n",
       "opt_param0           numTrees: 80  smoothing: 10.0  \n",
       "opt_param1            maxBins: 16              NaN  \n",
       "opt_param2         impurity: gini              NaN  \n",
       "opt_param3           maxDepth: 10              NaN  "
      ]
     },
     "metadata": {},
     "output_type": "display_data"
    },
    {
     "data": {
      "image/png": "[encoded data removed]",
      "text/plain": [
       "<matplotlib.figure.Figure at 0x7f29d40ad9b0>"
      ]
     },
     "metadata": {
      "needs_background": "light"
     },
     "output_type": "display_data"
    }
   ],
   "source": [
    "# sort for best model (F1-Score)\n",
    "best_models_f1 = best_models.sort_values(axis=1, by=[\"F1-Score\", \"Accuracy\"], ascending=False)\n",
    "d(best_models_f1)\n",
    "\n",
    "# plot metric summary\n",
    "metrics = [\"F1-Score\", \"Accuracy\", \"Precision\", \"Recall\"]\n",
    "width = 0.18\n",
    "x = np.arange(len(best_models_f1.columns))\n",
    "plt.figure(figsize=(16, 4))\n",
    "i = -1.5\n",
    "for metric in metrics:\n",
    "    plt.bar(x + (width * i), best_models_f1.loc[metric], width=width, alpha=0.8);\n",
    "    i += 1\n",
    "plt.legend(metrics, loc=3)\n",
    "plt.xticks(x, best_models_f1.columns, rotation=30)\n",
    "plt.title(\"Metrics of tested algorithms\");   "
   ]
  },
  {
   "cell_type": "markdown",
   "metadata": {},
   "source": [
    "> For the given small dataset and boundary conditions, the __Multilayer Perceptron__ comes out as the winner, benchmarked by F1-Score. The model reached a F1-Score of 0.7 and an accuracy of 0.81.\n",
    "\n",
    "> The plot demonstrates well, that for this small, unbalanced dataset accuracy it not well suited for evaluation. While accuracy stays on the same level for all tested algorithms, the recall drops significantly.  \n",
    "This is why overall the F1-Score, considering precision and recall, works well here, pointing out the most balanced algorithm for this usecase."
   ]
  },
  {
   "cell_type": "markdown",
   "metadata": {},
   "source": [
    "### Save best model\n",
    "The best model is saved, so it may be used later on, for example in a web app."
   ]
  },
  {
   "cell_type": "code",
   "execution_count": 22,
   "metadata": {},
   "outputs": [],
   "source": [
    "cv_model_mlp.bestModel.stages[-1].write().overwrite().save(\"best_model\")"
   ]
  },
  {
   "cell_type": "markdown",
   "metadata": {},
   "source": [
    "### Learnings and possible improvements"
   ]
  },
  {
   "cell_type": "markdown",
   "metadata": {},
   "source": [
    "+ Since the small dataset used in this notebook is just an extract of the bigger dataset, the interaction log for some users is cut off at the beginning or the end (not showing information from registration to cancellation) resulting in biased results when evaluating only the second half of a users membership for example. Also for some users the remaining data is not only biased, but very sparse, making it hard to extract some useful information.\n",
    "+ Since the dataset contains few entries, this may not be enough for some models like neural networks to train properly or overfit on the data.\n",
    "+ The data is very biased, considering churn. Only 52 of 225 users churned, which can be a problem for model training and is a possibility for future improvements.  \n",
    "One point for improvement would be to augment the dataset to make it more balanced. This can be done by getting more data of churning users, dropping data of non churning users or by duplication of data of churning users. Getting more data might be expensive in general, dropping data of an already small dataset not the best choice. So maybe creating some duplicates to learn on might be worth a try.\n",
    "+ Regarding features, those considering time and activity, like membership duration and active days, stood out as important for modeling.\n",
    "+ The tested model, especially the best model found, could be optimized further with a more thorough grid search. However, considering the small dataset, the risk to overfit the model probably exists despite cross validation efforts.  \n",
    "So first of all a bigger dataset should be chosen to optimize the churn prediction."
   ]
  }
 ],
 "metadata": {
  "kernelspec": {
   "display_name": "Python 3",
   "language": "python",
   "name": "python3"
  },
  "language_info": {
   "codemirror_mode": {
    "name": "ipython",
    "version": 3
   },
   "file_extension": ".py",
   "mimetype": "text/x-python",
   "name": "python",
   "nbconvert_exporter": "python",
   "pygments_lexer": "ipython3",
   "version": "3.6.3"
  }
 },
 "nbformat": 4,
 "nbformat_minor": 2
}
